{
 "cells": [
  {
   "cell_type": "code",
   "execution_count": 7,
   "metadata": {},
   "outputs": [
    {
     "ename": "TypeError",
     "evalue": "encoding with 'rot13' codec failed (TypeError: descriptor 'translate' for 'str' objects doesn't apply to a 'tuple' object)",
     "output_type": "error",
     "traceback": [
      "\u001b[1;31m---------------------------------------------------------------------------\u001b[0m",
      "\u001b[1;31mTypeError\u001b[0m                                 Traceback (most recent call last)",
      "File \u001b[1;32mc:\\Program Files\\Python311\\Lib\\encodings\\rot_13.py:15\u001b[0m, in \u001b[0;36mCodec.encode\u001b[1;34m(self, input, errors)\u001b[0m\n\u001b[0;32m     14\u001b[0m \u001b[38;5;28;01mdef\u001b[39;00m \u001b[38;5;21mencode\u001b[39m(\u001b[38;5;28mself\u001b[39m, \u001b[38;5;28minput\u001b[39m, errors\u001b[38;5;241m=\u001b[39m\u001b[38;5;124m'\u001b[39m\u001b[38;5;124mstrict\u001b[39m\u001b[38;5;124m'\u001b[39m):\n\u001b[1;32m---> 15\u001b[0m     \u001b[38;5;28;01mreturn\u001b[39;00m (\u001b[38;5;28;43mstr\u001b[39;49m\u001b[38;5;241;43m.\u001b[39;49m\u001b[43mtranslate\u001b[49m\u001b[43m(\u001b[49m\u001b[38;5;28;43minput\u001b[39;49m\u001b[43m,\u001b[49m\u001b[43m \u001b[49m\u001b[43mrot13_map\u001b[49m\u001b[43m)\u001b[49m, \u001b[38;5;28mlen\u001b[39m(\u001b[38;5;28minput\u001b[39m))\n",
      "\u001b[1;31mTypeError\u001b[0m: descriptor 'translate' for 'str' objects doesn't apply to a 'tuple' object",
      "\nThe above exception was the direct cause of the following exception:\n",
      "\u001b[1;31mTypeError\u001b[0m                                 Traceback (most recent call last)",
      "Cell \u001b[1;32mIn[7], line 5\u001b[0m\n\u001b[0;32m      1\u001b[0m \u001b[38;5;28;01mimport\u001b[39;00m \u001b[38;5;21;01mcodecs\u001b[39;00m\n\u001b[0;32m      3\u001b[0m plaintext \u001b[38;5;241m=\u001b[39m \u001b[38;5;124m'\u001b[39m\u001b[38;5;124msookmyung\u001b[39m\u001b[38;5;124m'\u001b[39m,\u001b[38;5;124m'\u001b[39m\u001b[38;5;124mwomen\u001b[39m\u001b[38;5;124m'\u001b[39m, \u001b[38;5;124m'\u001b[39m\u001b[38;5;124muniversity\u001b[39m\u001b[38;5;124m'\u001b[39m\n\u001b[1;32m----> 5\u001b[0m cipher \u001b[38;5;241m=\u001b[39m \u001b[43mcodecs\u001b[49m\u001b[38;5;241;43m.\u001b[39;49m\u001b[43mencode\u001b[49m\u001b[43m(\u001b[49m\u001b[43mplaintext\u001b[49m\u001b[43m,\u001b[49m\u001b[43m \u001b[49m\u001b[38;5;124;43m'\u001b[39;49m\u001b[38;5;124;43mrot13\u001b[39;49m\u001b[38;5;124;43m'\u001b[39;49m\u001b[43m)\u001b[49m \u001b[38;5;66;03m#rotate-by-13\u001b[39;00m\n\u001b[0;32m      7\u001b[0m \u001b[38;5;28mprint\u001b[39m(\u001b[38;5;124mf\u001b[39m\u001b[38;5;124m'\u001b[39m\u001b[38;5;132;01m{\u001b[39;00mplaintext\u001b[38;5;132;01m=}\u001b[39;00m\u001b[38;5;124m'\u001b[39m)\n\u001b[0;32m      9\u001b[0m \u001b[38;5;28mprint\u001b[39m(\u001b[38;5;124mf\u001b[39m\u001b[38;5;124m'\u001b[39m\u001b[38;5;132;01m{\u001b[39;00mcipher\u001b[38;5;132;01m=}\u001b[39;00m\u001b[38;5;124m'\u001b[39m)\n",
      "\u001b[1;31mTypeError\u001b[0m: encoding with 'rot13' codec failed (TypeError: descriptor 'translate' for 'str' objects doesn't apply to a 'tuple' object)"
     ]
    }
   ],
   "source": [
    "import codecs\n",
    "\n",
    "plaintext = 'sookmyung','women', 'university'\n",
    "\n",
    "cipher = codecs.encode(plaintext, 'rot13') #rotate-by-13\n",
    "\n",
    "print(f'{plaintext=}')\n",
    "\n",
    "print(f'{cipher=}')"
   ]
  },
  {
   "cell_type": "markdown",
   "metadata": {},
   "source": [
    "사용자로부터 통신 참여자 전원이 생성한 암호문을 입력받아, 이들 가운데 잘못 전달된 한 글자가 무엇인지 출력하는 알고리즘을 파이썬 함수로 작성하시오.\n",
    "\n",
    "\n",
    "주어진 암호문들만으로 잘못 전달된 글자가 무엇인지 판단할 수 없는 경우는 고려하지 않는다.\n",
    "*알고리즘 과목에서 예외처리는 하지 않는다.\n",
    "\n",
    "함수명: find_caesar_error\n",
    "입력: 문자열을 담는 Python list. 입력 list에 담긴 각 문자열의 길이는 모두 같다.\n",
    "출력: 통신 중 훼손된 한 글자 (훼손된 글자가 없다면 None을 출력한다.)\n",
    "\n",
    "입력 예시를 가지고 테스트해도 된다.\n",
    "키를 1부터 25까지 모두 주면서 변환을 해줘야. 카이사르 암호화 알고리즘을 짜야한다.\n",
    "\n",
    "요구사항 2.\n",
    "- 구현된 알고리즘과 관련하여 입력의 크기를 결정하는 요소를 설명하라.\n",
    "- (선택사항) 가능하다면 알고리즘의 계산 복잡도를 Big-theta로 표기하라.\n",
    "\n",
    "Instruction.\n",
    "pdf 파일 1개, txt 파일 1개 (총 2개)를 제출하시오.\n"
   ]
  },
  {
   "cell_type": "code",
   "execution_count": 20,
   "metadata": {},
   "outputs": [
    {
     "name": "stdout",
     "output_type": "stream",
     "text": [
      "['uihfs']\n",
      "['uihfs', 'dsqob']\n",
      "['uihfs', 'dsqob', 'xmgiv']\n",
      "uihfs u\n"
     ]
    }
   ],
   "source": [
    "import codecs\n",
    "\n",
    "list=[]\n",
    "output=[]\n",
    "\n",
    "def find_caesar_error(list):\n",
    "    for i in range(n):\n",
    "        cipher = codecs.encode(list[i], 'rot13') #rotate-by-13\n",
    "        output.append(cipher)\n",
    "        for I in range (5):\n",
    "            if cipher[i][I] != list[i][I]:\n",
    "                return list[i],list[i][I]\n",
    "            else:\n",
    "                pass\n",
    "        i=i+1\n",
    "\n",
    "n=int(input('몇 개의 문자열을 입력할 건가요? 문자열의 길이는 5입니다.'))\n",
    "\n",
    "for i in range (n):\n",
    "    text=input()\n",
    "    if len(text) == 5:\n",
    "        pass\n",
    "    else:\n",
    "        print('Match len(string) == 5')\n",
    "        break\n",
    "    i=i+1\n",
    "    list.append(text)\n",
    "    print(list)\n",
    "\n",
    "Input,Input_detail = find_caesar_error(list)\n",
    "print(Input,Input_detail)\n"
   ]
  }
 ],
 "metadata": {
  "kernelspec": {
   "display_name": "Python 3",
   "language": "python",
   "name": "python3"
  },
  "language_info": {
   "codemirror_mode": {
    "name": "ipython",
    "version": 3
   },
   "file_extension": ".py",
   "mimetype": "text/x-python",
   "name": "python",
   "nbconvert_exporter": "python",
   "pygments_lexer": "ipython3",
   "version": "3.11.2"
  }
 },
 "nbformat": 4,
 "nbformat_minor": 2
}
